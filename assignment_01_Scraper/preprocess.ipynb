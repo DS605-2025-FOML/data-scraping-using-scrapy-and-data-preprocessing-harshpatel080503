{
 "cells": [
  {
   "cell_type": "code",
   "execution_count": 14,
   "id": "9d2ea137",
   "metadata": {},
   "outputs": [],
   "source": [
    "import pandas as pd"
   ]
  },
  {
   "cell_type": "code",
   "execution_count": 16,
   "id": "af9f7ca6",
   "metadata": {},
   "outputs": [],
   "source": [
    "db_books = pd.read_csv(\"E:/Data Science Study/DAU Machine Learning LAB Work/data-scraping-using-scrapy-and-data-preprocessing-harshpatel080503/assignment_01_Scraper/books.csv\")"
   ]
  },
  {
   "cell_type": "code",
   "execution_count": 32,
   "id": "ca18c21b",
   "metadata": {},
   "outputs": [
    {
     "name": "stdout",
     "output_type": "stream",
     "text": [
      "Books Dataset :-\n",
      "                                    Title   Price Rating Books Available  \\\n",
      "0                   A Light in the Attic  £51.77  Three        In stock   \n",
      "1                     Tipping the Velvet  £53.74    One        In stock   \n",
      "2                             Soumission  £50.10    One        In stock   \n",
      "3                          Sharp Objects  £47.82   Four        In stock   \n",
      "4  Sapiens: A Brief History of Humankind  £54.23   Five        In stock   \n",
      "\n",
      "                                           Image URL  \n",
      "0  media/cache/2c/da/2cdad67c44b002e7ead0cc35693c...  \n",
      "1  media/cache/26/0c/260c6ae16bce31c8f8c95daddd9f...  \n",
      "2  media/cache/3e/ef/3eef99c9d9adef34639f51066202...  \n",
      "3  media/cache/32/51/3251cf3a3412f53f339e42cac213...  \n",
      "4  media/cache/be/a5/bea5697f2534a2f86a3ef27b5a8c...  \n"
     ]
    }
   ],
   "source": [
    "print(\"Books Dataset :-\\n\",db_books.head())"
   ]
  },
  {
   "cell_type": "code",
   "execution_count": 33,
   "id": "be8efda4",
   "metadata": {},
   "outputs": [],
   "source": [
    "db_books.rename(columns={\n",
    "    'available_stocks': 'Books Available',\n",
    "    'image_url': 'Image URL',\n",
    "    'price': 'Price',\n",
    "    'rating': 'Rating',\n",
    "    'title': 'Title',\n",
    "}, inplace=True)"
   ]
  },
  {
   "cell_type": "code",
   "execution_count": 34,
   "id": "d9046e8c",
   "metadata": {},
   "outputs": [
    {
     "name": "stdout",
     "output_type": "stream",
     "text": [
      "Books Dataset :-\n",
      "                                    Title   Price Rating Books Available  \\\n",
      "0                   A Light in the Attic  £51.77  Three        In stock   \n",
      "1                     Tipping the Velvet  £53.74    One        In stock   \n",
      "2                             Soumission  £50.10    One        In stock   \n",
      "3                          Sharp Objects  £47.82   Four        In stock   \n",
      "4  Sapiens: A Brief History of Humankind  £54.23   Five        In stock   \n",
      "\n",
      "                                           Image URL  \n",
      "0  media/cache/2c/da/2cdad67c44b002e7ead0cc35693c...  \n",
      "1  media/cache/26/0c/260c6ae16bce31c8f8c95daddd9f...  \n",
      "2  media/cache/3e/ef/3eef99c9d9adef34639f51066202...  \n",
      "3  media/cache/32/51/3251cf3a3412f53f339e42cac213...  \n",
      "4  media/cache/be/a5/bea5697f2534a2f86a3ef27b5a8c...  \n"
     ]
    }
   ],
   "source": [
    "print(\"Books Dataset :-\\n\",db_books.head())"
   ]
  },
  {
   "cell_type": "code",
   "execution_count": 23,
   "id": "cb1fff17",
   "metadata": {},
   "outputs": [],
   "source": [
    "db_books.drop(columns = ['availability'], inplace=True)"
   ]
  },
  {
   "cell_type": "code",
   "execution_count": 24,
   "id": "c6b6eeb1",
   "metadata": {},
   "outputs": [
    {
     "data": {
      "text/html": [
       "<div>\n",
       "<style scoped>\n",
       "    .dataframe tbody tr th:only-of-type {\n",
       "        vertical-align: middle;\n",
       "    }\n",
       "\n",
       "    .dataframe tbody tr th {\n",
       "        vertical-align: top;\n",
       "    }\n",
       "\n",
       "    .dataframe thead th {\n",
       "        text-align: right;\n",
       "    }\n",
       "</style>\n",
       "<table border=\"1\" class=\"dataframe\">\n",
       "  <thead>\n",
       "    <tr style=\"text-align: right;\">\n",
       "      <th></th>\n",
       "      <th>Books Available</th>\n",
       "      <th>Image URL</th>\n",
       "      <th>Price</th>\n",
       "      <th>Rating</th>\n",
       "      <th>Title</th>\n",
       "    </tr>\n",
       "  </thead>\n",
       "  <tbody>\n",
       "    <tr>\n",
       "      <th>0</th>\n",
       "      <td>In stock</td>\n",
       "      <td>media/cache/2c/da/2cdad67c44b002e7ead0cc35693c...</td>\n",
       "      <td>£51.77</td>\n",
       "      <td>Three</td>\n",
       "      <td>A Light in the Attic</td>\n",
       "    </tr>\n",
       "    <tr>\n",
       "      <th>1</th>\n",
       "      <td>In stock</td>\n",
       "      <td>media/cache/26/0c/260c6ae16bce31c8f8c95daddd9f...</td>\n",
       "      <td>£53.74</td>\n",
       "      <td>One</td>\n",
       "      <td>Tipping the Velvet</td>\n",
       "    </tr>\n",
       "    <tr>\n",
       "      <th>2</th>\n",
       "      <td>In stock</td>\n",
       "      <td>media/cache/3e/ef/3eef99c9d9adef34639f51066202...</td>\n",
       "      <td>£50.10</td>\n",
       "      <td>One</td>\n",
       "      <td>Soumission</td>\n",
       "    </tr>\n",
       "    <tr>\n",
       "      <th>3</th>\n",
       "      <td>In stock</td>\n",
       "      <td>media/cache/32/51/3251cf3a3412f53f339e42cac213...</td>\n",
       "      <td>£47.82</td>\n",
       "      <td>Four</td>\n",
       "      <td>Sharp Objects</td>\n",
       "    </tr>\n",
       "    <tr>\n",
       "      <th>4</th>\n",
       "      <td>In stock</td>\n",
       "      <td>media/cache/be/a5/bea5697f2534a2f86a3ef27b5a8c...</td>\n",
       "      <td>£54.23</td>\n",
       "      <td>Five</td>\n",
       "      <td>Sapiens: A Brief History of Humankind</td>\n",
       "    </tr>\n",
       "  </tbody>\n",
       "</table>\n",
       "</div>"
      ],
      "text/plain": [
       "  Books Available                                          Image URL   Price  \\\n",
       "0        In stock  media/cache/2c/da/2cdad67c44b002e7ead0cc35693c...  £51.77   \n",
       "1        In stock  media/cache/26/0c/260c6ae16bce31c8f8c95daddd9f...  £53.74   \n",
       "2        In stock  media/cache/3e/ef/3eef99c9d9adef34639f51066202...  £50.10   \n",
       "3        In stock  media/cache/32/51/3251cf3a3412f53f339e42cac213...  £47.82   \n",
       "4        In stock  media/cache/be/a5/bea5697f2534a2f86a3ef27b5a8c...  £54.23   \n",
       "\n",
       "  Rating                                  Title  \n",
       "0  Three                   A Light in the Attic  \n",
       "1    One                     Tipping the Velvet  \n",
       "2    One                             Soumission  \n",
       "3   Four                          Sharp Objects  \n",
       "4   Five  Sapiens: A Brief History of Humankind  "
      ]
     },
     "execution_count": 24,
     "metadata": {},
     "output_type": "execute_result"
    }
   ],
   "source": [
    "db_books.head()"
   ]
  },
  {
   "cell_type": "code",
   "execution_count": 27,
   "id": "7c5ab08b",
   "metadata": {},
   "outputs": [],
   "source": [
    "db_books = db_books[['Title','Price','Rating','Books Available','Image URL']]"
   ]
  },
  {
   "cell_type": "code",
   "execution_count": 28,
   "id": "980f96b3",
   "metadata": {},
   "outputs": [
    {
     "data": {
      "text/html": [
       "<div>\n",
       "<style scoped>\n",
       "    .dataframe tbody tr th:only-of-type {\n",
       "        vertical-align: middle;\n",
       "    }\n",
       "\n",
       "    .dataframe tbody tr th {\n",
       "        vertical-align: top;\n",
       "    }\n",
       "\n",
       "    .dataframe thead th {\n",
       "        text-align: right;\n",
       "    }\n",
       "</style>\n",
       "<table border=\"1\" class=\"dataframe\">\n",
       "  <thead>\n",
       "    <tr style=\"text-align: right;\">\n",
       "      <th></th>\n",
       "      <th>Title</th>\n",
       "      <th>Price</th>\n",
       "      <th>Rating</th>\n",
       "      <th>Books Available</th>\n",
       "      <th>Image URL</th>\n",
       "    </tr>\n",
       "  </thead>\n",
       "  <tbody>\n",
       "    <tr>\n",
       "      <th>0</th>\n",
       "      <td>A Light in the Attic</td>\n",
       "      <td>£51.77</td>\n",
       "      <td>Three</td>\n",
       "      <td>In stock</td>\n",
       "      <td>media/cache/2c/da/2cdad67c44b002e7ead0cc35693c...</td>\n",
       "    </tr>\n",
       "    <tr>\n",
       "      <th>1</th>\n",
       "      <td>Tipping the Velvet</td>\n",
       "      <td>£53.74</td>\n",
       "      <td>One</td>\n",
       "      <td>In stock</td>\n",
       "      <td>media/cache/26/0c/260c6ae16bce31c8f8c95daddd9f...</td>\n",
       "    </tr>\n",
       "    <tr>\n",
       "      <th>2</th>\n",
       "      <td>Soumission</td>\n",
       "      <td>£50.10</td>\n",
       "      <td>One</td>\n",
       "      <td>In stock</td>\n",
       "      <td>media/cache/3e/ef/3eef99c9d9adef34639f51066202...</td>\n",
       "    </tr>\n",
       "    <tr>\n",
       "      <th>3</th>\n",
       "      <td>Sharp Objects</td>\n",
       "      <td>£47.82</td>\n",
       "      <td>Four</td>\n",
       "      <td>In stock</td>\n",
       "      <td>media/cache/32/51/3251cf3a3412f53f339e42cac213...</td>\n",
       "    </tr>\n",
       "    <tr>\n",
       "      <th>4</th>\n",
       "      <td>Sapiens: A Brief History of Humankind</td>\n",
       "      <td>£54.23</td>\n",
       "      <td>Five</td>\n",
       "      <td>In stock</td>\n",
       "      <td>media/cache/be/a5/bea5697f2534a2f86a3ef27b5a8c...</td>\n",
       "    </tr>\n",
       "  </tbody>\n",
       "</table>\n",
       "</div>"
      ],
      "text/plain": [
       "                                   Title   Price Rating Books Available  \\\n",
       "0                   A Light in the Attic  £51.77  Three        In stock   \n",
       "1                     Tipping the Velvet  £53.74    One        In stock   \n",
       "2                             Soumission  £50.10    One        In stock   \n",
       "3                          Sharp Objects  £47.82   Four        In stock   \n",
       "4  Sapiens: A Brief History of Humankind  £54.23   Five        In stock   \n",
       "\n",
       "                                           Image URL  \n",
       "0  media/cache/2c/da/2cdad67c44b002e7ead0cc35693c...  \n",
       "1  media/cache/26/0c/260c6ae16bce31c8f8c95daddd9f...  \n",
       "2  media/cache/3e/ef/3eef99c9d9adef34639f51066202...  \n",
       "3  media/cache/32/51/3251cf3a3412f53f339e42cac213...  \n",
       "4  media/cache/be/a5/bea5697f2534a2f86a3ef27b5a8c...  "
      ]
     },
     "execution_count": 28,
     "metadata": {},
     "output_type": "execute_result"
    }
   ],
   "source": [
    "db_books.head()"
   ]
  },
  {
   "cell_type": "code",
   "execution_count": 38,
   "id": "67211eb5",
   "metadata": {},
   "outputs": [
    {
     "name": "stdout",
     "output_type": "stream",
     "text": [
      "Books Dataset Information :-\n",
      " <bound method DataFrame.info of                                                  Title   Price Rating  \\\n",
      "0                                 A Light in the Attic  £51.77  Three   \n",
      "1                                   Tipping the Velvet  £53.74    One   \n",
      "2                                           Soumission  £50.10    One   \n",
      "3                                        Sharp Objects  £47.82   Four   \n",
      "4                Sapiens: A Brief History of Humankind  £54.23   Five   \n",
      "..                                                 ...     ...    ...   \n",
      "995  Alice in Wonderland (Alice's Adventures in Won...  £55.53    One   \n",
      "996   Ajin: Demi-Human, Volume 1 (Ajin: Demi-Human #1)  £57.06   Four   \n",
      "997  A Spy's Devotion (The Regency Spies of London #1)  £16.97   Five   \n",
      "998                1st to Die (Women's Murder Club #1)  £53.98    One   \n",
      "999                 1,000 Places to See Before You Die  £26.08   Five   \n",
      "\n",
      "    Books Available                                          Image URL  \n",
      "0          In stock  media/cache/2c/da/2cdad67c44b002e7ead0cc35693c...  \n",
      "1          In stock  media/cache/26/0c/260c6ae16bce31c8f8c95daddd9f...  \n",
      "2          In stock  media/cache/3e/ef/3eef99c9d9adef34639f51066202...  \n",
      "3          In stock  media/cache/32/51/3251cf3a3412f53f339e42cac213...  \n",
      "4          In stock  media/cache/be/a5/bea5697f2534a2f86a3ef27b5a8c...  \n",
      "..              ...                                                ...  \n",
      "995        In stock  ../media/cache/96/ee/96ee77d71a31b7694dac6855f...  \n",
      "996        In stock  ../media/cache/09/7c/097cb5ecc6fb3fbe1690cf0cb...  \n",
      "997        In stock  ../media/cache/1b/5f/1b5ff86f3c75e51e24c573d3f...  \n",
      "998        In stock  ../media/cache/2b/41/2b4161c5b72a4ae386b644682...  \n",
      "999        In stock  ../media/cache/d7/0f/d70f7edd92705c45a82118c3f...  \n",
      "\n",
      "[1000 rows x 5 columns]>\n"
     ]
    }
   ],
   "source": [
    "print(\"Books Dataset Information :-\\n\",db_books.info)"
   ]
  },
  {
   "cell_type": "code",
   "execution_count": 39,
   "id": "6ea47f9e",
   "metadata": {},
   "outputs": [
    {
     "name": "stdout",
     "output_type": "stream",
     "text": [
      "Books Dataset Statistics :-\n",
      "                          Title   Price Rating Books Available  \\\n",
      "count                     1000    1000   1000            1000   \n",
      "unique                     999     903      5               1   \n",
      "top     The Star-Touched Queen  £44.18    One        In stock   \n",
      "freq                         2       3    226            1000   \n",
      "\n",
      "                                                Image URL  \n",
      "count                                                1000  \n",
      "unique                                               1000  \n",
      "top     media/cache/2c/da/2cdad67c44b002e7ead0cc35693c...  \n",
      "freq                                                    1  \n"
     ]
    }
   ],
   "source": [
    "print(\"Books Dataset Statistics :-\\n\", db_books.describe())"
   ]
  },
  {
   "cell_type": "code",
   "execution_count": 57,
   "id": "4a2161ed",
   "metadata": {},
   "outputs": [
    {
     "data": {
      "text/html": [
       "<div>\n",
       "<style scoped>\n",
       "    .dataframe tbody tr th:only-of-type {\n",
       "        vertical-align: middle;\n",
       "    }\n",
       "\n",
       "    .dataframe tbody tr th {\n",
       "        vertical-align: top;\n",
       "    }\n",
       "\n",
       "    .dataframe thead th {\n",
       "        text-align: right;\n",
       "    }\n",
       "</style>\n",
       "<table border=\"1\" class=\"dataframe\">\n",
       "  <thead>\n",
       "    <tr style=\"text-align: right;\">\n",
       "      <th></th>\n",
       "      <th>Title</th>\n",
       "      <th>Price</th>\n",
       "      <th>Rating</th>\n",
       "      <th>Books Available</th>\n",
       "      <th>Image URL</th>\n",
       "    </tr>\n",
       "  </thead>\n",
       "  <tbody>\n",
       "    <tr>\n",
       "      <th>0</th>\n",
       "      <td>A Light in the Attic</td>\n",
       "      <td>£51.77</td>\n",
       "      <td>Three</td>\n",
       "      <td>In stock</td>\n",
       "      <td>media/cache/2c/da/2cdad67c44b002e7ead0cc35693c...</td>\n",
       "    </tr>\n",
       "    <tr>\n",
       "      <th>1</th>\n",
       "      <td>Tipping the Velvet</td>\n",
       "      <td>£53.74</td>\n",
       "      <td>One</td>\n",
       "      <td>In stock</td>\n",
       "      <td>media/cache/26/0c/260c6ae16bce31c8f8c95daddd9f...</td>\n",
       "    </tr>\n",
       "    <tr>\n",
       "      <th>2</th>\n",
       "      <td>Soumission</td>\n",
       "      <td>£50.10</td>\n",
       "      <td>One</td>\n",
       "      <td>In stock</td>\n",
       "      <td>media/cache/3e/ef/3eef99c9d9adef34639f51066202...</td>\n",
       "    </tr>\n",
       "    <tr>\n",
       "      <th>3</th>\n",
       "      <td>Sharp Objects</td>\n",
       "      <td>£47.82</td>\n",
       "      <td>Four</td>\n",
       "      <td>In stock</td>\n",
       "      <td>media/cache/32/51/3251cf3a3412f53f339e42cac213...</td>\n",
       "    </tr>\n",
       "    <tr>\n",
       "      <th>4</th>\n",
       "      <td>Sapiens: A Brief History of Humankind</td>\n",
       "      <td>£54.23</td>\n",
       "      <td>Five</td>\n",
       "      <td>In stock</td>\n",
       "      <td>media/cache/be/a5/bea5697f2534a2f86a3ef27b5a8c...</td>\n",
       "    </tr>\n",
       "  </tbody>\n",
       "</table>\n",
       "</div>"
      ],
      "text/plain": [
       "                                   Title   Price Rating Books Available  \\\n",
       "0                   A Light in the Attic  £51.77  Three        In stock   \n",
       "1                     Tipping the Velvet  £53.74    One        In stock   \n",
       "2                             Soumission  £50.10    One        In stock   \n",
       "3                          Sharp Objects  £47.82   Four        In stock   \n",
       "4  Sapiens: A Brief History of Humankind  £54.23   Five        In stock   \n",
       "\n",
       "                                           Image URL  \n",
       "0  media/cache/2c/da/2cdad67c44b002e7ead0cc35693c...  \n",
       "1  media/cache/26/0c/260c6ae16bce31c8f8c95daddd9f...  \n",
       "2  media/cache/3e/ef/3eef99c9d9adef34639f51066202...  \n",
       "3  media/cache/32/51/3251cf3a3412f53f339e42cac213...  \n",
       "4  media/cache/be/a5/bea5697f2534a2f86a3ef27b5a8c...  "
      ]
     },
     "execution_count": 57,
     "metadata": {},
     "output_type": "execute_result"
    }
   ],
   "source": [
    "db_books.head()"
   ]
  },
  {
   "cell_type": "code",
   "execution_count": 59,
   "id": "4e5c0720",
   "metadata": {},
   "outputs": [
    {
     "data": {
      "text/html": [
       "<div>\n",
       "<style scoped>\n",
       "    .dataframe tbody tr th:only-of-type {\n",
       "        vertical-align: middle;\n",
       "    }\n",
       "\n",
       "    .dataframe tbody tr th {\n",
       "        vertical-align: top;\n",
       "    }\n",
       "\n",
       "    .dataframe thead th {\n",
       "        text-align: right;\n",
       "    }\n",
       "</style>\n",
       "<table border=\"1\" class=\"dataframe\">\n",
       "  <thead>\n",
       "    <tr style=\"text-align: right;\">\n",
       "      <th></th>\n",
       "      <th>Title</th>\n",
       "      <th>Price</th>\n",
       "      <th>Rating</th>\n",
       "      <th>Books Available</th>\n",
       "      <th>Image URL</th>\n",
       "    </tr>\n",
       "  </thead>\n",
       "  <tbody>\n",
       "    <tr>\n",
       "      <th>0</th>\n",
       "      <td>False</td>\n",
       "      <td>False</td>\n",
       "      <td>False</td>\n",
       "      <td>False</td>\n",
       "      <td>False</td>\n",
       "    </tr>\n",
       "    <tr>\n",
       "      <th>1</th>\n",
       "      <td>False</td>\n",
       "      <td>False</td>\n",
       "      <td>False</td>\n",
       "      <td>False</td>\n",
       "      <td>False</td>\n",
       "    </tr>\n",
       "    <tr>\n",
       "      <th>2</th>\n",
       "      <td>False</td>\n",
       "      <td>False</td>\n",
       "      <td>False</td>\n",
       "      <td>False</td>\n",
       "      <td>False</td>\n",
       "    </tr>\n",
       "    <tr>\n",
       "      <th>3</th>\n",
       "      <td>False</td>\n",
       "      <td>False</td>\n",
       "      <td>False</td>\n",
       "      <td>False</td>\n",
       "      <td>False</td>\n",
       "    </tr>\n",
       "    <tr>\n",
       "      <th>4</th>\n",
       "      <td>False</td>\n",
       "      <td>False</td>\n",
       "      <td>False</td>\n",
       "      <td>False</td>\n",
       "      <td>False</td>\n",
       "    </tr>\n",
       "    <tr>\n",
       "      <th>...</th>\n",
       "      <td>...</td>\n",
       "      <td>...</td>\n",
       "      <td>...</td>\n",
       "      <td>...</td>\n",
       "      <td>...</td>\n",
       "    </tr>\n",
       "    <tr>\n",
       "      <th>995</th>\n",
       "      <td>False</td>\n",
       "      <td>False</td>\n",
       "      <td>False</td>\n",
       "      <td>False</td>\n",
       "      <td>False</td>\n",
       "    </tr>\n",
       "    <tr>\n",
       "      <th>996</th>\n",
       "      <td>False</td>\n",
       "      <td>False</td>\n",
       "      <td>False</td>\n",
       "      <td>False</td>\n",
       "      <td>False</td>\n",
       "    </tr>\n",
       "    <tr>\n",
       "      <th>997</th>\n",
       "      <td>False</td>\n",
       "      <td>False</td>\n",
       "      <td>False</td>\n",
       "      <td>False</td>\n",
       "      <td>False</td>\n",
       "    </tr>\n",
       "    <tr>\n",
       "      <th>998</th>\n",
       "      <td>False</td>\n",
       "      <td>False</td>\n",
       "      <td>False</td>\n",
       "      <td>False</td>\n",
       "      <td>False</td>\n",
       "    </tr>\n",
       "    <tr>\n",
       "      <th>999</th>\n",
       "      <td>False</td>\n",
       "      <td>False</td>\n",
       "      <td>False</td>\n",
       "      <td>False</td>\n",
       "      <td>False</td>\n",
       "    </tr>\n",
       "  </tbody>\n",
       "</table>\n",
       "<p>1000 rows × 5 columns</p>\n",
       "</div>"
      ],
      "text/plain": [
       "     Title  Price  Rating  Books Available  Image URL\n",
       "0    False  False   False            False      False\n",
       "1    False  False   False            False      False\n",
       "2    False  False   False            False      False\n",
       "3    False  False   False            False      False\n",
       "4    False  False   False            False      False\n",
       "..     ...    ...     ...              ...        ...\n",
       "995  False  False   False            False      False\n",
       "996  False  False   False            False      False\n",
       "997  False  False   False            False      False\n",
       "998  False  False   False            False      False\n",
       "999  False  False   False            False      False\n",
       "\n",
       "[1000 rows x 5 columns]"
      ]
     },
     "execution_count": 59,
     "metadata": {},
     "output_type": "execute_result"
    }
   ],
   "source": [
    "db_books.isnull()"
   ]
  },
  {
   "cell_type": "code",
   "execution_count": 42,
   "id": "3f2e5931",
   "metadata": {},
   "outputs": [
    {
     "data": {
      "text/plain": [
       "Title              0\n",
       "Price              0\n",
       "Rating             0\n",
       "Books Available    0\n",
       "Image URL          0\n",
       "dtype: int64"
      ]
     },
     "execution_count": 42,
     "metadata": {},
     "output_type": "execute_result"
    }
   ],
   "source": [
    "db_books.isna().sum()"
   ]
  },
  {
   "cell_type": "code",
   "execution_count": 61,
   "id": "f2d23540",
   "metadata": {},
   "outputs": [
    {
     "name": "stderr",
     "output_type": "stream",
     "text": [
      "C:\\Users\\harsh\\AppData\\Local\\Temp\\ipykernel_8768\\3865763527.py:2: FutureWarning: DataFrame.applymap has been deprecated. Use DataFrame.map instead.\n",
      "  db_books = db_books.applymap(lambda x: x.strip() if isinstance(x, str) else x)\n"
     ]
    }
   ],
   "source": [
    "db_books.columns = db_books.columns.str.strip()\n",
    "db_books = db_books.applymap(lambda x: x.strip() if isinstance(x, str) else x)"
   ]
  },
  {
   "cell_type": "code",
   "execution_count": 63,
   "id": "da116772",
   "metadata": {},
   "outputs": [],
   "source": [
    "db_books['Price'] = db_books['Price'].str.replace('£', '', regex=False).astype(float)"
   ]
  },
  {
   "cell_type": "code",
   "execution_count": 65,
   "id": "a73c27d1",
   "metadata": {},
   "outputs": [],
   "source": [
    "rating_map = {\n",
    "    'One': 1,\n",
    "    'Two': 2,\n",
    "    'Three': 3,\n",
    "    'Four': 4,\n",
    "    'Five': 5\n",
    "}\n",
    "db_books['Rating'] = db_books['Rating'].map(rating_map)"
   ]
  },
  {
   "cell_type": "code",
   "execution_count": 66,
   "id": "4c9a800d",
   "metadata": {},
   "outputs": [
    {
     "data": {
      "text/html": [
       "<div>\n",
       "<style scoped>\n",
       "    .dataframe tbody tr th:only-of-type {\n",
       "        vertical-align: middle;\n",
       "    }\n",
       "\n",
       "    .dataframe tbody tr th {\n",
       "        vertical-align: top;\n",
       "    }\n",
       "\n",
       "    .dataframe thead th {\n",
       "        text-align: right;\n",
       "    }\n",
       "</style>\n",
       "<table border=\"1\" class=\"dataframe\">\n",
       "  <thead>\n",
       "    <tr style=\"text-align: right;\">\n",
       "      <th></th>\n",
       "      <th>Title</th>\n",
       "      <th>Price</th>\n",
       "      <th>Rating</th>\n",
       "      <th>Books Available</th>\n",
       "      <th>Image URL</th>\n",
       "    </tr>\n",
       "  </thead>\n",
       "  <tbody>\n",
       "    <tr>\n",
       "      <th>0</th>\n",
       "      <td>A Light in the Attic</td>\n",
       "      <td>51.77</td>\n",
       "      <td>3</td>\n",
       "      <td>In stock</td>\n",
       "      <td>media/cache/2c/da/2cdad67c44b002e7ead0cc35693c...</td>\n",
       "    </tr>\n",
       "    <tr>\n",
       "      <th>1</th>\n",
       "      <td>Tipping the Velvet</td>\n",
       "      <td>53.74</td>\n",
       "      <td>1</td>\n",
       "      <td>In stock</td>\n",
       "      <td>media/cache/26/0c/260c6ae16bce31c8f8c95daddd9f...</td>\n",
       "    </tr>\n",
       "    <tr>\n",
       "      <th>2</th>\n",
       "      <td>Soumission</td>\n",
       "      <td>50.10</td>\n",
       "      <td>1</td>\n",
       "      <td>In stock</td>\n",
       "      <td>media/cache/3e/ef/3eef99c9d9adef34639f51066202...</td>\n",
       "    </tr>\n",
       "    <tr>\n",
       "      <th>3</th>\n",
       "      <td>Sharp Objects</td>\n",
       "      <td>47.82</td>\n",
       "      <td>4</td>\n",
       "      <td>In stock</td>\n",
       "      <td>media/cache/32/51/3251cf3a3412f53f339e42cac213...</td>\n",
       "    </tr>\n",
       "    <tr>\n",
       "      <th>4</th>\n",
       "      <td>Sapiens: A Brief History of Humankind</td>\n",
       "      <td>54.23</td>\n",
       "      <td>5</td>\n",
       "      <td>In stock</td>\n",
       "      <td>media/cache/be/a5/bea5697f2534a2f86a3ef27b5a8c...</td>\n",
       "    </tr>\n",
       "  </tbody>\n",
       "</table>\n",
       "</div>"
      ],
      "text/plain": [
       "                                   Title  Price  Rating Books Available  \\\n",
       "0                   A Light in the Attic  51.77       3        In stock   \n",
       "1                     Tipping the Velvet  53.74       1        In stock   \n",
       "2                             Soumission  50.10       1        In stock   \n",
       "3                          Sharp Objects  47.82       4        In stock   \n",
       "4  Sapiens: A Brief History of Humankind  54.23       5        In stock   \n",
       "\n",
       "                                           Image URL  \n",
       "0  media/cache/2c/da/2cdad67c44b002e7ead0cc35693c...  \n",
       "1  media/cache/26/0c/260c6ae16bce31c8f8c95daddd9f...  \n",
       "2  media/cache/3e/ef/3eef99c9d9adef34639f51066202...  \n",
       "3  media/cache/32/51/3251cf3a3412f53f339e42cac213...  \n",
       "4  media/cache/be/a5/bea5697f2534a2f86a3ef27b5a8c...  "
      ]
     },
     "execution_count": 66,
     "metadata": {},
     "output_type": "execute_result"
    }
   ],
   "source": [
    "db_books.head()"
   ]
  },
  {
   "cell_type": "code",
   "execution_count": 67,
   "id": "067d2e19",
   "metadata": {},
   "outputs": [
    {
     "data": {
      "text/html": [
       "<div>\n",
       "<style scoped>\n",
       "    .dataframe tbody tr th:only-of-type {\n",
       "        vertical-align: middle;\n",
       "    }\n",
       "\n",
       "    .dataframe tbody tr th {\n",
       "        vertical-align: top;\n",
       "    }\n",
       "\n",
       "    .dataframe thead th {\n",
       "        text-align: right;\n",
       "    }\n",
       "</style>\n",
       "<table border=\"1\" class=\"dataframe\">\n",
       "  <thead>\n",
       "    <tr style=\"text-align: right;\">\n",
       "      <th></th>\n",
       "      <th>Price</th>\n",
       "      <th>Rating</th>\n",
       "    </tr>\n",
       "  </thead>\n",
       "  <tbody>\n",
       "    <tr>\n",
       "      <th>count</th>\n",
       "      <td>1000.00000</td>\n",
       "      <td>1000.000000</td>\n",
       "    </tr>\n",
       "    <tr>\n",
       "      <th>mean</th>\n",
       "      <td>35.07035</td>\n",
       "      <td>2.923000</td>\n",
       "    </tr>\n",
       "    <tr>\n",
       "      <th>std</th>\n",
       "      <td>14.44669</td>\n",
       "      <td>1.434967</td>\n",
       "    </tr>\n",
       "    <tr>\n",
       "      <th>min</th>\n",
       "      <td>10.00000</td>\n",
       "      <td>1.000000</td>\n",
       "    </tr>\n",
       "    <tr>\n",
       "      <th>25%</th>\n",
       "      <td>22.10750</td>\n",
       "      <td>2.000000</td>\n",
       "    </tr>\n",
       "    <tr>\n",
       "      <th>50%</th>\n",
       "      <td>35.98000</td>\n",
       "      <td>3.000000</td>\n",
       "    </tr>\n",
       "    <tr>\n",
       "      <th>75%</th>\n",
       "      <td>47.45750</td>\n",
       "      <td>4.000000</td>\n",
       "    </tr>\n",
       "    <tr>\n",
       "      <th>max</th>\n",
       "      <td>59.99000</td>\n",
       "      <td>5.000000</td>\n",
       "    </tr>\n",
       "  </tbody>\n",
       "</table>\n",
       "</div>"
      ],
      "text/plain": [
       "            Price       Rating\n",
       "count  1000.00000  1000.000000\n",
       "mean     35.07035     2.923000\n",
       "std      14.44669     1.434967\n",
       "min      10.00000     1.000000\n",
       "25%      22.10750     2.000000\n",
       "50%      35.98000     3.000000\n",
       "75%      47.45750     4.000000\n",
       "max      59.99000     5.000000"
      ]
     },
     "execution_count": 67,
     "metadata": {},
     "output_type": "execute_result"
    }
   ],
   "source": [
    "db_books.describe()"
   ]
  },
  {
   "cell_type": "code",
   "execution_count": 68,
   "id": "0990a8ed",
   "metadata": {},
   "outputs": [
    {
     "data": {
      "text/plain": [
       "<bound method NDFrame.describe of                                                  Title  Price  Rating  \\\n",
       "0                                 A Light in the Attic  51.77       3   \n",
       "1                                   Tipping the Velvet  53.74       1   \n",
       "2                                           Soumission  50.10       1   \n",
       "3                                        Sharp Objects  47.82       4   \n",
       "4                Sapiens: A Brief History of Humankind  54.23       5   \n",
       "..                                                 ...    ...     ...   \n",
       "995  Alice in Wonderland (Alice's Adventures in Won...  55.53       1   \n",
       "996   Ajin: Demi-Human, Volume 1 (Ajin: Demi-Human #1)  57.06       4   \n",
       "997  A Spy's Devotion (The Regency Spies of London #1)  16.97       5   \n",
       "998                1st to Die (Women's Murder Club #1)  53.98       1   \n",
       "999                 1,000 Places to See Before You Die  26.08       5   \n",
       "\n",
       "    Books Available                                          Image URL  \n",
       "0          In stock  media/cache/2c/da/2cdad67c44b002e7ead0cc35693c...  \n",
       "1          In stock  media/cache/26/0c/260c6ae16bce31c8f8c95daddd9f...  \n",
       "2          In stock  media/cache/3e/ef/3eef99c9d9adef34639f51066202...  \n",
       "3          In stock  media/cache/32/51/3251cf3a3412f53f339e42cac213...  \n",
       "4          In stock  media/cache/be/a5/bea5697f2534a2f86a3ef27b5a8c...  \n",
       "..              ...                                                ...  \n",
       "995        In stock  ../media/cache/96/ee/96ee77d71a31b7694dac6855f...  \n",
       "996        In stock  ../media/cache/09/7c/097cb5ecc6fb3fbe1690cf0cb...  \n",
       "997        In stock  ../media/cache/1b/5f/1b5ff86f3c75e51e24c573d3f...  \n",
       "998        In stock  ../media/cache/2b/41/2b4161c5b72a4ae386b644682...  \n",
       "999        In stock  ../media/cache/d7/0f/d70f7edd92705c45a82118c3f...  \n",
       "\n",
       "[1000 rows x 5 columns]>"
      ]
     },
     "execution_count": 68,
     "metadata": {},
     "output_type": "execute_result"
    }
   ],
   "source": [
    "db_books.describe"
   ]
  },
  {
   "cell_type": "code",
   "execution_count": 72,
   "id": "5c3804fe",
   "metadata": {},
   "outputs": [],
   "source": [
    "db_books.drop_duplicates(inplace=True)"
   ]
  },
  {
   "cell_type": "code",
   "execution_count": 73,
   "id": "57e57d63",
   "metadata": {},
   "outputs": [],
   "source": [
    "db_books.dropna(inplace=True)"
   ]
  },
  {
   "cell_type": "code",
   "execution_count": 74,
   "id": "6a482aaa",
   "metadata": {},
   "outputs": [],
   "source": [
    "db_books.reset_index(drop=True, inplace=True)"
   ]
  },
  {
   "cell_type": "code",
   "execution_count": 75,
   "id": "e9b1d2f8",
   "metadata": {},
   "outputs": [
    {
     "data": {
      "text/html": [
       "<div>\n",
       "<style scoped>\n",
       "    .dataframe tbody tr th:only-of-type {\n",
       "        vertical-align: middle;\n",
       "    }\n",
       "\n",
       "    .dataframe tbody tr th {\n",
       "        vertical-align: top;\n",
       "    }\n",
       "\n",
       "    .dataframe thead th {\n",
       "        text-align: right;\n",
       "    }\n",
       "</style>\n",
       "<table border=\"1\" class=\"dataframe\">\n",
       "  <thead>\n",
       "    <tr style=\"text-align: right;\">\n",
       "      <th></th>\n",
       "      <th>Title</th>\n",
       "      <th>Price</th>\n",
       "      <th>Rating</th>\n",
       "      <th>Books Available</th>\n",
       "      <th>Image URL</th>\n",
       "    </tr>\n",
       "  </thead>\n",
       "  <tbody>\n",
       "    <tr>\n",
       "      <th>0</th>\n",
       "      <td>A Light in the Attic</td>\n",
       "      <td>51.77</td>\n",
       "      <td>3</td>\n",
       "      <td>In stock</td>\n",
       "      <td>media/cache/2c/da/2cdad67c44b002e7ead0cc35693c...</td>\n",
       "    </tr>\n",
       "    <tr>\n",
       "      <th>1</th>\n",
       "      <td>Tipping the Velvet</td>\n",
       "      <td>53.74</td>\n",
       "      <td>1</td>\n",
       "      <td>In stock</td>\n",
       "      <td>media/cache/26/0c/260c6ae16bce31c8f8c95daddd9f...</td>\n",
       "    </tr>\n",
       "    <tr>\n",
       "      <th>2</th>\n",
       "      <td>Soumission</td>\n",
       "      <td>50.10</td>\n",
       "      <td>1</td>\n",
       "      <td>In stock</td>\n",
       "      <td>media/cache/3e/ef/3eef99c9d9adef34639f51066202...</td>\n",
       "    </tr>\n",
       "    <tr>\n",
       "      <th>3</th>\n",
       "      <td>Sharp Objects</td>\n",
       "      <td>47.82</td>\n",
       "      <td>4</td>\n",
       "      <td>In stock</td>\n",
       "      <td>media/cache/32/51/3251cf3a3412f53f339e42cac213...</td>\n",
       "    </tr>\n",
       "    <tr>\n",
       "      <th>4</th>\n",
       "      <td>Sapiens: A Brief History of Humankind</td>\n",
       "      <td>54.23</td>\n",
       "      <td>5</td>\n",
       "      <td>In stock</td>\n",
       "      <td>media/cache/be/a5/bea5697f2534a2f86a3ef27b5a8c...</td>\n",
       "    </tr>\n",
       "  </tbody>\n",
       "</table>\n",
       "</div>"
      ],
      "text/plain": [
       "                                   Title  Price  Rating Books Available  \\\n",
       "0                   A Light in the Attic  51.77       3        In stock   \n",
       "1                     Tipping the Velvet  53.74       1        In stock   \n",
       "2                             Soumission  50.10       1        In stock   \n",
       "3                          Sharp Objects  47.82       4        In stock   \n",
       "4  Sapiens: A Brief History of Humankind  54.23       5        In stock   \n",
       "\n",
       "                                           Image URL  \n",
       "0  media/cache/2c/da/2cdad67c44b002e7ead0cc35693c...  \n",
       "1  media/cache/26/0c/260c6ae16bce31c8f8c95daddd9f...  \n",
       "2  media/cache/3e/ef/3eef99c9d9adef34639f51066202...  \n",
       "3  media/cache/32/51/3251cf3a3412f53f339e42cac213...  \n",
       "4  media/cache/be/a5/bea5697f2534a2f86a3ef27b5a8c...  "
      ]
     },
     "execution_count": 75,
     "metadata": {},
     "output_type": "execute_result"
    }
   ],
   "source": [
    "db_books.head()"
   ]
  },
  {
   "cell_type": "code",
   "execution_count": 76,
   "id": "27525804",
   "metadata": {},
   "outputs": [
    {
     "data": {
      "text/html": [
       "<div>\n",
       "<style scoped>\n",
       "    .dataframe tbody tr th:only-of-type {\n",
       "        vertical-align: middle;\n",
       "    }\n",
       "\n",
       "    .dataframe tbody tr th {\n",
       "        vertical-align: top;\n",
       "    }\n",
       "\n",
       "    .dataframe thead th {\n",
       "        text-align: right;\n",
       "    }\n",
       "</style>\n",
       "<table border=\"1\" class=\"dataframe\">\n",
       "  <thead>\n",
       "    <tr style=\"text-align: right;\">\n",
       "      <th></th>\n",
       "      <th>Price</th>\n",
       "      <th>Rating</th>\n",
       "    </tr>\n",
       "  </thead>\n",
       "  <tbody>\n",
       "    <tr>\n",
       "      <th>count</th>\n",
       "      <td>1000.00000</td>\n",
       "      <td>1000.000000</td>\n",
       "    </tr>\n",
       "    <tr>\n",
       "      <th>mean</th>\n",
       "      <td>35.07035</td>\n",
       "      <td>2.923000</td>\n",
       "    </tr>\n",
       "    <tr>\n",
       "      <th>std</th>\n",
       "      <td>14.44669</td>\n",
       "      <td>1.434967</td>\n",
       "    </tr>\n",
       "    <tr>\n",
       "      <th>min</th>\n",
       "      <td>10.00000</td>\n",
       "      <td>1.000000</td>\n",
       "    </tr>\n",
       "    <tr>\n",
       "      <th>25%</th>\n",
       "      <td>22.10750</td>\n",
       "      <td>2.000000</td>\n",
       "    </tr>\n",
       "    <tr>\n",
       "      <th>50%</th>\n",
       "      <td>35.98000</td>\n",
       "      <td>3.000000</td>\n",
       "    </tr>\n",
       "    <tr>\n",
       "      <th>75%</th>\n",
       "      <td>47.45750</td>\n",
       "      <td>4.000000</td>\n",
       "    </tr>\n",
       "    <tr>\n",
       "      <th>max</th>\n",
       "      <td>59.99000</td>\n",
       "      <td>5.000000</td>\n",
       "    </tr>\n",
       "  </tbody>\n",
       "</table>\n",
       "</div>"
      ],
      "text/plain": [
       "            Price       Rating\n",
       "count  1000.00000  1000.000000\n",
       "mean     35.07035     2.923000\n",
       "std      14.44669     1.434967\n",
       "min      10.00000     1.000000\n",
       "25%      22.10750     2.000000\n",
       "50%      35.98000     3.000000\n",
       "75%      47.45750     4.000000\n",
       "max      59.99000     5.000000"
      ]
     },
     "execution_count": 76,
     "metadata": {},
     "output_type": "execute_result"
    }
   ],
   "source": [
    "db_books.describe()"
   ]
  },
  {
   "cell_type": "code",
   "execution_count": 77,
   "id": "6ff93c06",
   "metadata": {},
   "outputs": [
    {
     "data": {
      "text/plain": [
       "Title              0\n",
       "Price              0\n",
       "Rating             0\n",
       "Books Available    0\n",
       "Image URL          0\n",
       "dtype: int64"
      ]
     },
     "execution_count": 77,
     "metadata": {},
     "output_type": "execute_result"
    }
   ],
   "source": [
    "db_books.isnull().sum()"
   ]
  },
  {
   "cell_type": "code",
   "execution_count": 78,
   "id": "703b4562",
   "metadata": {},
   "outputs": [
    {
     "data": {
      "text/plain": [
       "<bound method DataFrame.info of                                                  Title  Price  Rating  \\\n",
       "0                                 A Light in the Attic  51.77       3   \n",
       "1                                   Tipping the Velvet  53.74       1   \n",
       "2                                           Soumission  50.10       1   \n",
       "3                                        Sharp Objects  47.82       4   \n",
       "4                Sapiens: A Brief History of Humankind  54.23       5   \n",
       "..                                                 ...    ...     ...   \n",
       "995  Alice in Wonderland (Alice's Adventures in Won...  55.53       1   \n",
       "996   Ajin: Demi-Human, Volume 1 (Ajin: Demi-Human #1)  57.06       4   \n",
       "997  A Spy's Devotion (The Regency Spies of London #1)  16.97       5   \n",
       "998                1st to Die (Women's Murder Club #1)  53.98       1   \n",
       "999                 1,000 Places to See Before You Die  26.08       5   \n",
       "\n",
       "    Books Available                                          Image URL  \n",
       "0          In stock  media/cache/2c/da/2cdad67c44b002e7ead0cc35693c...  \n",
       "1          In stock  media/cache/26/0c/260c6ae16bce31c8f8c95daddd9f...  \n",
       "2          In stock  media/cache/3e/ef/3eef99c9d9adef34639f51066202...  \n",
       "3          In stock  media/cache/32/51/3251cf3a3412f53f339e42cac213...  \n",
       "4          In stock  media/cache/be/a5/bea5697f2534a2f86a3ef27b5a8c...  \n",
       "..              ...                                                ...  \n",
       "995        In stock  ../media/cache/96/ee/96ee77d71a31b7694dac6855f...  \n",
       "996        In stock  ../media/cache/09/7c/097cb5ecc6fb3fbe1690cf0cb...  \n",
       "997        In stock  ../media/cache/1b/5f/1b5ff86f3c75e51e24c573d3f...  \n",
       "998        In stock  ../media/cache/2b/41/2b4161c5b72a4ae386b644682...  \n",
       "999        In stock  ../media/cache/d7/0f/d70f7edd92705c45a82118c3f...  \n",
       "\n",
       "[1000 rows x 5 columns]>"
      ]
     },
     "execution_count": 78,
     "metadata": {},
     "output_type": "execute_result"
    }
   ],
   "source": [
    "db_books.info"
   ]
  },
  {
   "cell_type": "code",
   "execution_count": 84,
   "id": "963f23f6",
   "metadata": {},
   "outputs": [
    {
     "name": "stdout",
     "output_type": "stream",
     "text": [
      "Data cleaned successfully. Shape: (1000, 5)\n"
     ]
    }
   ],
   "source": [
    "db_books.to_csv(\"books_cleaned.csv\", index=False)\n",
    "\n",
    "print(\"Data cleaned successfully. Shape:\", db_books.shape)"
   ]
  }
 ],
 "metadata": {
  "kernelspec": {
   "display_name": "venv (3.12.10)",
   "language": "python",
   "name": "python3"
  },
  "language_info": {
   "codemirror_mode": {
    "name": "ipython",
    "version": 3
   },
   "file_extension": ".py",
   "mimetype": "text/x-python",
   "name": "python",
   "nbconvert_exporter": "python",
   "pygments_lexer": "ipython3",
   "version": "3.12.10"
  }
 },
 "nbformat": 4,
 "nbformat_minor": 5
}
