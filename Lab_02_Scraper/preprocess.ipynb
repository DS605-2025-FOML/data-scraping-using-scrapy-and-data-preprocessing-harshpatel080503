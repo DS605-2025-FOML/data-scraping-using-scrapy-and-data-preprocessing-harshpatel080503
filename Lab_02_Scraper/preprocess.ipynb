{
 "cells": [
  {
   "cell_type": "code",
   "execution_count": 1,
   "id": "99752bf2",
   "metadata": {},
   "outputs": [],
   "source": [
    "import pandas as pd"
   ]
  },
  {
   "cell_type": "code",
   "execution_count": 3,
   "id": "7138515b",
   "metadata": {},
   "outputs": [],
   "source": [
    "try:\n",
    "    df = pd.read_csv('E:/Data Science Study/DAU Machine Learning LAB Work/data-scraping-using-scrapy-and-data-preprocessing-harshpatel080503/Lab_02_Scraper/Lab_02_Scraper.csv', encoding='utf-8')\n",
    "except UnicodeDecodeError:\n",
    "    df = pd.read_csv('E:/Data Science Study/DAU Machine Learning LAB Work/data-scraping-using-scrapy-and-data-preprocessing-harshpatel080503/Lab_02_Scraper/Lab_02_Scraper.csvv', encoding='latin1')"
   ]
  },
  {
   "cell_type": "code",
   "execution_count": 4,
   "id": "eda9895f",
   "metadata": {},
   "outputs": [
    {
     "name": "stdout",
     "output_type": "stream",
     "text": [
      "--- Initial Data Info ---\n",
      "Shape of the data (rows, columns): (100, 3)\n",
      "<class 'pandas.core.frame.DataFrame'>\n",
      "RangeIndex: 100 entries, 0 to 99\n",
      "Data columns (total 3 columns):\n",
      " #   Column  Non-Null Count  Dtype \n",
      "---  ------  --------------  ----- \n",
      " 0   author  100 non-null    object\n",
      " 1   tags    100 non-null    object\n",
      " 2   text    100 non-null    object\n",
      "dtypes: object(3)\n",
      "memory usage: 2.5+ KB\n"
     ]
    }
   ],
   "source": [
    "print(\"--- Initial Data Info ---\")\n",
    "print(f\"Shape of the data (rows, columns): {df.shape}\")\n",
    "df.info()"
   ]
  },
  {
   "cell_type": "code",
   "execution_count": 5,
   "id": "0a4c75f9",
   "metadata": {},
   "outputs": [
    {
     "name": "stdout",
     "output_type": "stream",
     "text": [
      "\n",
      "First 5 rows of the raw data:\n",
      "         author                  tags  \\\n",
      "0  Steve Martin  humor,obvious,simile   \n",
      "1  Steve Martin  humor,obvious,simile   \n",
      "2  Steve Martin  humor,obvious,simile   \n",
      "3  Steve Martin  humor,obvious,simile   \n",
      "4  Steve Martin  humor,obvious,simile   \n",
      "\n",
      "                                                text  \n",
      "0  “A day without sunshine is like, you know, nig...  \n",
      "1  “A day without sunshine is like, you know, nig...  \n",
      "2  “A day without sunshine is like, you know, nig...  \n",
      "3  “A day without sunshine is like, you know, nig...  \n",
      "4  “A day without sunshine is like, you know, nig...  \n"
     ]
    }
   ],
   "source": [
    "print(\"\\nFirst 5 rows of the raw data:\")\n",
    "print(df.head())"
   ]
  },
  {
   "cell_type": "code",
   "execution_count": 6,
   "id": "4833130f",
   "metadata": {},
   "outputs": [
    {
     "name": "stdout",
     "output_type": "stream",
     "text": [
      "\n",
      "--- Handling Missing Values ---\n",
      "Missing values per column:\n",
      "author    0\n",
      "tags      0\n",
      "text      0\n",
      "dtype: int64\n"
     ]
    }
   ],
   "source": [
    "print(\"\\n--- Handling Missing Values ---\")\n",
    "print(\"Missing values per column:\")\n",
    "print(df.isnull().sum())"
   ]
  },
  {
   "cell_type": "code",
   "execution_count": 7,
   "id": "7f5c1d95",
   "metadata": {},
   "outputs": [
    {
     "name": "stdout",
     "output_type": "stream",
     "text": [
      "\n",
      "--- Handling Duplicates ---\n",
      "Number of duplicate rows: 90\n"
     ]
    }
   ],
   "source": [
    "print(\"\\n--- Handling Duplicates ---\")\n",
    "duplicate_rows = df[df.duplicated()]\n",
    "print(f\"Number of duplicate rows: {len(duplicate_rows)}\")"
   ]
  },
  {
   "cell_type": "code",
   "execution_count": 8,
   "id": "53380bc8",
   "metadata": {},
   "outputs": [
    {
     "name": "stdout",
     "output_type": "stream",
     "text": [
      "Shape after dropping duplicates: (10, 3)\n"
     ]
    }
   ],
   "source": [
    "df.drop_duplicates(inplace=True)\n",
    "print(f\"Shape after dropping duplicates: {df.shape}\")"
   ]
  },
  {
   "cell_type": "code",
   "execution_count": 9,
   "id": "d8891c3a",
   "metadata": {},
   "outputs": [],
   "source": [
    "df['text'] = df['text'].str.replace('“', '').str.replace('”', '')"
   ]
  },
  {
   "cell_type": "code",
   "execution_count": 10,
   "id": "09286bb8",
   "metadata": {},
   "outputs": [
    {
     "name": "stdout",
     "output_type": "stream",
     "text": [
      "\n",
      "--- Final Cleaned Data ---\n",
      "First 5 rows of the processed data:\n",
      "            author                                               tags  \\\n",
      "0     Steve Martin                               humor,obvious,simile   \n",
      "10  Allen Saunders  fate,life,misattributed-john-lennon,planning,p...   \n",
      "20      Bob Marley                                              music   \n",
      "30    George Eliot                                      inspirational   \n",
      "40   James Baldwin                                               love   \n",
      "\n",
      "                                                 text  \n",
      "0    A day without sunshine is like, you know, night.  \n",
      "10  Life is what happens to us while we are making...  \n",
      "20  One good thing about music, when it hits you, ...  \n",
      "30  It is never too late to be what you might have...  \n",
      "40  Love does not begin and end the way we seem to...  \n"
     ]
    }
   ],
   "source": [
    "print(\"\\n--- Final Cleaned Data ---\")\n",
    "print(\"First 5 rows of the processed data:\")\n",
    "print(df.head())"
   ]
  },
  {
   "cell_type": "code",
   "execution_count": 13,
   "id": "b88497e0",
   "metadata": {},
   "outputs": [
    {
     "name": "stdout",
     "output_type": "stream",
     "text": [
      "\n",
      " Cleaned data has been successfully saved to Lab_02_Scraper.csv\n"
     ]
    }
   ],
   "source": [
    "df.to_csv('Lab_02_Scraper_cleaned.csv', index=False)\n",
    "print(\"\\n Cleaned data has been successfully saved to Lab_02_Scraper.csv\")"
   ]
  }
 ],
 "metadata": {
  "kernelspec": {
   "display_name": "venv (3.12.10)",
   "language": "python",
   "name": "python3"
  },
  "language_info": {
   "codemirror_mode": {
    "name": "ipython",
    "version": 3
   },
   "file_extension": ".py",
   "mimetype": "text/x-python",
   "name": "python",
   "nbconvert_exporter": "python",
   "pygments_lexer": "ipython3",
   "version": "3.12.10"
  }
 },
 "nbformat": 4,
 "nbformat_minor": 5
}
